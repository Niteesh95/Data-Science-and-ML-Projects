{
 "cells": [
  {
   "cell_type": "code",
   "execution_count": 3,
   "id": "3322ede6",
   "metadata": {},
   "outputs": [],
   "source": [
    "import pandas as pd\n",
    "import numpy as np\n",
    "import matplotlib.pyplot as plt\n",
    "import seaborn as sns\n",
    "# import plotly.express as px\n",
    "\n",
    "import warnings\n",
    "warnings.filterwarnings('ignore')\n",
    "\n",
    "plt.style.use('ggplot')"
   ]
  },
  {
   "cell_type": "code",
   "execution_count": 4,
   "id": "9733c530",
   "metadata": {},
   "outputs": [],
   "source": [
    "data = pd.read_csv('../input/transactions_obf.csv')\n",
    "labels_data = pd.read_csv('../input/labels_obf.csv')"
   ]
  },
  {
   "cell_type": "code",
   "execution_count": 88,
   "id": "02265106",
   "metadata": {},
   "outputs": [
    {
     "data": {
      "text/html": [
       "<div>\n",
       "<style scoped>\n",
       "    .dataframe tbody tr th:only-of-type {\n",
       "        vertical-align: middle;\n",
       "    }\n",
       "\n",
       "    .dataframe tbody tr th {\n",
       "        vertical-align: top;\n",
       "    }\n",
       "\n",
       "    .dataframe thead th {\n",
       "        text-align: right;\n",
       "    }\n",
       "</style>\n",
       "<table border=\"1\" class=\"dataframe\">\n",
       "  <thead>\n",
       "    <tr style=\"text-align: right;\">\n",
       "      <th></th>\n",
       "      <th>transactionTime</th>\n",
       "      <th>eventId</th>\n",
       "      <th>accountNumber</th>\n",
       "      <th>merchantId</th>\n",
       "      <th>mcc</th>\n",
       "      <th>merchantCountry</th>\n",
       "      <th>merchantZip</th>\n",
       "      <th>posEntryMode</th>\n",
       "      <th>transactionAmount</th>\n",
       "      <th>availableCash</th>\n",
       "    </tr>\n",
       "  </thead>\n",
       "  <tbody>\n",
       "    <tr>\n",
       "      <th>0</th>\n",
       "      <td>2017-01-01T00:00:00Z</td>\n",
       "      <td>18688431A1</td>\n",
       "      <td>94f9b4e7</td>\n",
       "      <td>b76d06</td>\n",
       "      <td>5968</td>\n",
       "      <td>826</td>\n",
       "      <td>CR0</td>\n",
       "      <td>1</td>\n",
       "      <td>10.72</td>\n",
       "      <td>7500</td>\n",
       "    </tr>\n",
       "    <tr>\n",
       "      <th>1</th>\n",
       "      <td>2017-01-01T00:49:03Z</td>\n",
       "      <td>2164986A1</td>\n",
       "      <td>648e19cf</td>\n",
       "      <td>718cc6</td>\n",
       "      <td>5499</td>\n",
       "      <td>826</td>\n",
       "      <td>DE14</td>\n",
       "      <td>81</td>\n",
       "      <td>21.19</td>\n",
       "      <td>4500</td>\n",
       "    </tr>\n",
       "    <tr>\n",
       "      <th>2</th>\n",
       "      <td>2017-01-01T00:43:17Z</td>\n",
       "      <td>31294145A1</td>\n",
       "      <td>c0ffab1b</td>\n",
       "      <td>94cafc</td>\n",
       "      <td>5735</td>\n",
       "      <td>442</td>\n",
       "      <td>NaN</td>\n",
       "      <td>81</td>\n",
       "      <td>5.04</td>\n",
       "      <td>9500</td>\n",
       "    </tr>\n",
       "    <tr>\n",
       "      <th>3</th>\n",
       "      <td>2017-01-01T00:15:07Z</td>\n",
       "      <td>11162049A1</td>\n",
       "      <td>038099dd</td>\n",
       "      <td>7d5803</td>\n",
       "      <td>5499</td>\n",
       "      <td>826</td>\n",
       "      <td>NR1</td>\n",
       "      <td>81</td>\n",
       "      <td>21.00</td>\n",
       "      <td>7500</td>\n",
       "    </tr>\n",
       "    <tr>\n",
       "      <th>4</th>\n",
       "      <td>2017-01-01T00:37:09Z</td>\n",
       "      <td>17067235A1</td>\n",
       "      <td>3130363b</td>\n",
       "      <td>12ca76</td>\n",
       "      <td>5411</td>\n",
       "      <td>826</td>\n",
       "      <td>M50</td>\n",
       "      <td>81</td>\n",
       "      <td>47.00</td>\n",
       "      <td>10500</td>\n",
       "    </tr>\n",
       "  </tbody>\n",
       "</table>\n",
       "</div>"
      ],
      "text/plain": [
       "        transactionTime     eventId accountNumber merchantId   mcc  \\\n",
       "0  2017-01-01T00:00:00Z  18688431A1      94f9b4e7     b76d06  5968   \n",
       "1  2017-01-01T00:49:03Z   2164986A1      648e19cf     718cc6  5499   \n",
       "2  2017-01-01T00:43:17Z  31294145A1      c0ffab1b     94cafc  5735   \n",
       "3  2017-01-01T00:15:07Z  11162049A1      038099dd     7d5803  5499   \n",
       "4  2017-01-01T00:37:09Z  17067235A1      3130363b     12ca76  5411   \n",
       "\n",
       "   merchantCountry merchantZip  posEntryMode  transactionAmount  availableCash  \n",
       "0              826         CR0             1              10.72           7500  \n",
       "1              826        DE14            81              21.19           4500  \n",
       "2              442         NaN            81               5.04           9500  \n",
       "3              826         NR1            81              21.00           7500  \n",
       "4              826         M50            81              47.00          10500  "
      ]
     },
     "execution_count": 88,
     "metadata": {},
     "output_type": "execute_result"
    }
   ],
   "source": [
    "data.head()"
   ]
  },
  {
   "cell_type": "code",
   "execution_count": 89,
   "id": "ece6a561",
   "metadata": {},
   "outputs": [
    {
     "data": {
      "text/plain": [
       "(118621, 10)"
      ]
     },
     "execution_count": 89,
     "metadata": {},
     "output_type": "execute_result"
    }
   ],
   "source": [
    "data.shape"
   ]
  },
  {
   "cell_type": "code",
   "execution_count": 90,
   "id": "db1d8a1a",
   "metadata": {},
   "outputs": [
    {
     "data": {
      "text/plain": [
       "Index(['transactionTime', 'eventId', 'accountNumber', 'merchantId', 'mcc',\n",
       "       'merchantCountry', 'merchantZip', 'posEntryMode', 'transactionAmount',\n",
       "       'availableCash'],\n",
       "      dtype='object')"
      ]
     },
     "execution_count": 90,
     "metadata": {},
     "output_type": "execute_result"
    }
   ],
   "source": [
    "data.columns"
   ]
  },
  {
   "cell_type": "code",
   "execution_count": 91,
   "id": "abf6ae3b",
   "metadata": {},
   "outputs": [
    {
     "data": {
      "text/html": [
       "<div>\n",
       "<style scoped>\n",
       "    .dataframe tbody tr th:only-of-type {\n",
       "        vertical-align: middle;\n",
       "    }\n",
       "\n",
       "    .dataframe tbody tr th {\n",
       "        vertical-align: top;\n",
       "    }\n",
       "\n",
       "    .dataframe thead th {\n",
       "        text-align: right;\n",
       "    }\n",
       "</style>\n",
       "<table border=\"1\" class=\"dataframe\">\n",
       "  <thead>\n",
       "    <tr style=\"text-align: right;\">\n",
       "      <th></th>\n",
       "      <th>reportedTime</th>\n",
       "      <th>eventId</th>\n",
       "    </tr>\n",
       "  </thead>\n",
       "  <tbody>\n",
       "    <tr>\n",
       "      <th>0</th>\n",
       "      <td>2017-01-04T00:00:00Z</td>\n",
       "      <td>101536329A1</td>\n",
       "    </tr>\n",
       "    <tr>\n",
       "      <th>1</th>\n",
       "      <td>2017-01-04T00:00:00Z</td>\n",
       "      <td>101536425A1</td>\n",
       "    </tr>\n",
       "    <tr>\n",
       "      <th>2</th>\n",
       "      <td>2017-01-04T00:00:00Z</td>\n",
       "      <td>101536473A1</td>\n",
       "    </tr>\n",
       "    <tr>\n",
       "      <th>3</th>\n",
       "      <td>2017-01-04T00:00:00Z</td>\n",
       "      <td>101536617A1</td>\n",
       "    </tr>\n",
       "    <tr>\n",
       "      <th>4</th>\n",
       "      <td>2017-01-04T00:00:00Z</td>\n",
       "      <td>101536761A1</td>\n",
       "    </tr>\n",
       "  </tbody>\n",
       "</table>\n",
       "</div>"
      ],
      "text/plain": [
       "           reportedTime      eventId\n",
       "0  2017-01-04T00:00:00Z  101536329A1\n",
       "1  2017-01-04T00:00:00Z  101536425A1\n",
       "2  2017-01-04T00:00:00Z  101536473A1\n",
       "3  2017-01-04T00:00:00Z  101536617A1\n",
       "4  2017-01-04T00:00:00Z  101536761A1"
      ]
     },
     "execution_count": 91,
     "metadata": {},
     "output_type": "execute_result"
    }
   ],
   "source": [
    "labels_data.head()"
   ]
  },
  {
   "cell_type": "code",
   "execution_count": 92,
   "id": "55c8fe0f",
   "metadata": {},
   "outputs": [
    {
     "data": {
      "text/plain": [
       "(875, 2)"
      ]
     },
     "execution_count": 92,
     "metadata": {},
     "output_type": "execute_result"
    }
   ],
   "source": [
    "labels_data.shape"
   ]
  },
  {
   "cell_type": "code",
   "execution_count": 93,
   "id": "24d7b033",
   "metadata": {},
   "outputs": [
    {
     "name": "stdout",
     "output_type": "stream",
     "text": [
      "<class 'pandas.core.frame.DataFrame'>\n",
      "RangeIndex: 118621 entries, 0 to 118620\n",
      "Data columns (total 10 columns):\n",
      " #   Column             Non-Null Count   Dtype  \n",
      "---  ------             --------------   -----  \n",
      " 0   transactionTime    118621 non-null  object \n",
      " 1   eventId            118621 non-null  object \n",
      " 2   accountNumber      118621 non-null  object \n",
      " 3   merchantId         118621 non-null  object \n",
      " 4   mcc                118621 non-null  int64  \n",
      " 5   merchantCountry    118621 non-null  int64  \n",
      " 6   merchantZip        95616 non-null   object \n",
      " 7   posEntryMode       118621 non-null  int64  \n",
      " 8   transactionAmount  118621 non-null  float64\n",
      " 9   availableCash      118621 non-null  int64  \n",
      "dtypes: float64(1), int64(4), object(5)\n",
      "memory usage: 9.1+ MB\n"
     ]
    }
   ],
   "source": [
    "data.info()"
   ]
  },
  {
   "cell_type": "code",
   "execution_count": 94,
   "id": "1560b467",
   "metadata": {},
   "outputs": [
    {
     "data": {
      "text/plain": [
       "(875,)"
      ]
     },
     "execution_count": 94,
     "metadata": {},
     "output_type": "execute_result"
    }
   ],
   "source": [
    "labels_data['eventId'].unique().shape"
   ]
  },
  {
   "cell_type": "code",
   "execution_count": 95,
   "id": "6bd944f6",
   "metadata": {},
   "outputs": [
    {
     "name": "stdout",
     "output_type": "stream",
     "text": [
      "transactionTime 118105\n",
      "eventId 118621\n",
      "accountNumber 766\n",
      "merchantId 33327\n",
      "mcc 361\n",
      "merchantCountry 82\n",
      "merchantZip 3261\n",
      "posEntryMode 10\n",
      "transactionAmount 16431\n",
      "availableCash 19\n"
     ]
    }
   ],
   "source": [
    "for col in data.columns:\n",
    "    print(col, len(data[col].unique()))"
   ]
  },
  {
   "cell_type": "code",
   "execution_count": 96,
   "id": "f35df52c",
   "metadata": {},
   "outputs": [
    {
     "name": "stdout",
     "output_type": "stream",
     "text": [
      "<class 'pandas.core.frame.DataFrame'>\n",
      "RangeIndex: 875 entries, 0 to 874\n",
      "Data columns (total 2 columns):\n",
      " #   Column        Non-Null Count  Dtype \n",
      "---  ------        --------------  ----- \n",
      " 0   reportedTime  875 non-null    object\n",
      " 1   eventId       875 non-null    object\n",
      "dtypes: object(2)\n",
      "memory usage: 13.8+ KB\n"
     ]
    }
   ],
   "source": [
    "labels_data.info()"
   ]
  },
  {
   "cell_type": "code",
   "execution_count": 97,
   "id": "ae13f831",
   "metadata": {},
   "outputs": [
    {
     "data": {
      "text/plain": [
       "875"
      ]
     },
     "execution_count": 97,
     "metadata": {},
     "output_type": "execute_result"
    }
   ],
   "source": [
    "len(labels_data)"
   ]
  },
  {
   "cell_type": "code",
   "execution_count": 98,
   "id": "13438719",
   "metadata": {},
   "outputs": [],
   "source": [
    "lst = [labels_data['eventId'][i] for i in range(len(labels_data))]\n",
    "a = '(' + '|'.join(lst) + ')'\n",
    "\n",
    "data['fraudReported'] = data.eventId.str.extract(a, expand=False).fillna(0)"
   ]
  },
  {
   "cell_type": "code",
   "execution_count": 99,
   "id": "848fb277",
   "metadata": {},
   "outputs": [],
   "source": [
    "data['fraudReported'] = data['fraudReported'].astype(bool).astype(int)"
   ]
  },
  {
   "cell_type": "code",
   "execution_count": 100,
   "id": "dd2554a4",
   "metadata": {},
   "outputs": [
    {
     "data": {
      "text/html": [
       "<div>\n",
       "<style scoped>\n",
       "    .dataframe tbody tr th:only-of-type {\n",
       "        vertical-align: middle;\n",
       "    }\n",
       "\n",
       "    .dataframe tbody tr th {\n",
       "        vertical-align: top;\n",
       "    }\n",
       "\n",
       "    .dataframe thead th {\n",
       "        text-align: right;\n",
       "    }\n",
       "</style>\n",
       "<table border=\"1\" class=\"dataframe\">\n",
       "  <thead>\n",
       "    <tr style=\"text-align: right;\">\n",
       "      <th></th>\n",
       "      <th>transactionTime</th>\n",
       "      <th>eventId</th>\n",
       "      <th>accountNumber</th>\n",
       "      <th>merchantId</th>\n",
       "      <th>mcc</th>\n",
       "      <th>merchantCountry</th>\n",
       "      <th>merchantZip</th>\n",
       "      <th>posEntryMode</th>\n",
       "      <th>transactionAmount</th>\n",
       "      <th>availableCash</th>\n",
       "      <th>fraudReported</th>\n",
       "    </tr>\n",
       "  </thead>\n",
       "  <tbody>\n",
       "    <tr>\n",
       "      <th>14</th>\n",
       "      <td>2017-01-01T03:53:34Z</td>\n",
       "      <td>85602730A1</td>\n",
       "      <td>645c318d</td>\n",
       "      <td>66f14e</td>\n",
       "      <td>5541</td>\n",
       "      <td>36</td>\n",
       "      <td>NaN</td>\n",
       "      <td>5</td>\n",
       "      <td>10.95</td>\n",
       "      <td>1500</td>\n",
       "      <td>1</td>\n",
       "    </tr>\n",
       "    <tr>\n",
       "      <th>740</th>\n",
       "      <td>2017-01-03T13:15:07Z</td>\n",
       "      <td>101536761A1</td>\n",
       "      <td>f42ba1f1</td>\n",
       "      <td>5f7cd4</td>\n",
       "      <td>5968</td>\n",
       "      <td>840</td>\n",
       "      <td>NaN</td>\n",
       "      <td>81</td>\n",
       "      <td>18.06</td>\n",
       "      <td>1500</td>\n",
       "      <td>1</td>\n",
       "    </tr>\n",
       "    <tr>\n",
       "      <th>741</th>\n",
       "      <td>2017-01-03T13:27:22Z</td>\n",
       "      <td>101536857A1</td>\n",
       "      <td>f42ba1f1</td>\n",
       "      <td>aebafc</td>\n",
       "      <td>4814</td>\n",
       "      <td>826</td>\n",
       "      <td>0</td>\n",
       "      <td>1</td>\n",
       "      <td>11.00</td>\n",
       "      <td>1500</td>\n",
       "      <td>1</td>\n",
       "    </tr>\n",
       "    <tr>\n",
       "      <th>743</th>\n",
       "      <td>2017-01-03T13:27:02Z</td>\n",
       "      <td>101536329A1</td>\n",
       "      <td>f42ba1f1</td>\n",
       "      <td>aebafc</td>\n",
       "      <td>4814</td>\n",
       "      <td>826</td>\n",
       "      <td>0</td>\n",
       "      <td>1</td>\n",
       "      <td>9.00</td>\n",
       "      <td>1500</td>\n",
       "      <td>1</td>\n",
       "    </tr>\n",
       "    <tr>\n",
       "      <th>744</th>\n",
       "      <td>2017-01-03T13:38:15Z</td>\n",
       "      <td>101536953A1</td>\n",
       "      <td>f42ba1f1</td>\n",
       "      <td>7e57ae</td>\n",
       "      <td>4816</td>\n",
       "      <td>840</td>\n",
       "      <td>NaN</td>\n",
       "      <td>81</td>\n",
       "      <td>0.00</td>\n",
       "      <td>1500</td>\n",
       "      <td>1</td>\n",
       "    </tr>\n",
       "    <tr>\n",
       "      <th>...</th>\n",
       "      <td>...</td>\n",
       "      <td>...</td>\n",
       "      <td>...</td>\n",
       "      <td>...</td>\n",
       "      <td>...</td>\n",
       "      <td>...</td>\n",
       "      <td>...</td>\n",
       "      <td>...</td>\n",
       "      <td>...</td>\n",
       "      <td>...</td>\n",
       "      <td>...</td>\n",
       "    </tr>\n",
       "    <tr>\n",
       "      <th>117046</th>\n",
       "      <td>2018-01-26T14:08:44Z</td>\n",
       "      <td>14215297A1</td>\n",
       "      <td>499ef8d0</td>\n",
       "      <td>1fe47b</td>\n",
       "      <td>5734</td>\n",
       "      <td>840</td>\n",
       "      <td>NaN</td>\n",
       "      <td>81</td>\n",
       "      <td>117.99</td>\n",
       "      <td>7500</td>\n",
       "      <td>1</td>\n",
       "    </tr>\n",
       "    <tr>\n",
       "      <th>117213</th>\n",
       "      <td>2018-01-26T22:25:45Z</td>\n",
       "      <td>15926483A1</td>\n",
       "      <td>44c5d9ae</td>\n",
       "      <td>dde98b</td>\n",
       "      <td>6300</td>\n",
       "      <td>380</td>\n",
       "      <td>NaN</td>\n",
       "      <td>81</td>\n",
       "      <td>206.66</td>\n",
       "      <td>1500</td>\n",
       "      <td>1</td>\n",
       "    </tr>\n",
       "    <tr>\n",
       "      <th>117224</th>\n",
       "      <td>2018-01-26T23:30:06Z</td>\n",
       "      <td>15927635A1</td>\n",
       "      <td>44c5d9ae</td>\n",
       "      <td>0e8039</td>\n",
       "      <td>6300</td>\n",
       "      <td>826</td>\n",
       "      <td>PE2</td>\n",
       "      <td>1</td>\n",
       "      <td>123.25</td>\n",
       "      <td>1500</td>\n",
       "      <td>1</td>\n",
       "    </tr>\n",
       "    <tr>\n",
       "      <th>117239</th>\n",
       "      <td>2018-01-27T00:21:36Z</td>\n",
       "      <td>15930035A1</td>\n",
       "      <td>44c5d9ae</td>\n",
       "      <td>30a3b3</td>\n",
       "      <td>4812</td>\n",
       "      <td>826</td>\n",
       "      <td>CR0</td>\n",
       "      <td>1</td>\n",
       "      <td>19.00</td>\n",
       "      <td>1500</td>\n",
       "      <td>1</td>\n",
       "    </tr>\n",
       "    <tr>\n",
       "      <th>117628</th>\n",
       "      <td>2018-01-28T01:53:17Z</td>\n",
       "      <td>48693018A1</td>\n",
       "      <td>cf56ce28</td>\n",
       "      <td>1a0510</td>\n",
       "      <td>6011</td>\n",
       "      <td>840</td>\n",
       "      <td>NaN</td>\n",
       "      <td>90</td>\n",
       "      <td>120.76</td>\n",
       "      <td>2500</td>\n",
       "      <td>1</td>\n",
       "    </tr>\n",
       "  </tbody>\n",
       "</table>\n",
       "<p>875 rows × 11 columns</p>\n",
       "</div>"
      ],
      "text/plain": [
       "             transactionTime      eventId accountNumber merchantId   mcc  \\\n",
       "14      2017-01-01T03:53:34Z   85602730A1      645c318d     66f14e  5541   \n",
       "740     2017-01-03T13:15:07Z  101536761A1      f42ba1f1     5f7cd4  5968   \n",
       "741     2017-01-03T13:27:22Z  101536857A1      f42ba1f1     aebafc  4814   \n",
       "743     2017-01-03T13:27:02Z  101536329A1      f42ba1f1     aebafc  4814   \n",
       "744     2017-01-03T13:38:15Z  101536953A1      f42ba1f1     7e57ae  4816   \n",
       "...                      ...          ...           ...        ...   ...   \n",
       "117046  2018-01-26T14:08:44Z   14215297A1      499ef8d0     1fe47b  5734   \n",
       "117213  2018-01-26T22:25:45Z   15926483A1      44c5d9ae     dde98b  6300   \n",
       "117224  2018-01-26T23:30:06Z   15927635A1      44c5d9ae     0e8039  6300   \n",
       "117239  2018-01-27T00:21:36Z   15930035A1      44c5d9ae     30a3b3  4812   \n",
       "117628  2018-01-28T01:53:17Z   48693018A1      cf56ce28     1a0510  6011   \n",
       "\n",
       "        merchantCountry merchantZip  posEntryMode  transactionAmount  \\\n",
       "14                   36         NaN             5              10.95   \n",
       "740                 840         NaN            81              18.06   \n",
       "741                 826           0             1              11.00   \n",
       "743                 826           0             1               9.00   \n",
       "744                 840         NaN            81               0.00   \n",
       "...                 ...         ...           ...                ...   \n",
       "117046              840         NaN            81             117.99   \n",
       "117213              380         NaN            81             206.66   \n",
       "117224              826         PE2             1             123.25   \n",
       "117239              826         CR0             1              19.00   \n",
       "117628              840         NaN            90             120.76   \n",
       "\n",
       "        availableCash  fraudReported  \n",
       "14               1500              1  \n",
       "740              1500              1  \n",
       "741              1500              1  \n",
       "743              1500              1  \n",
       "744              1500              1  \n",
       "...               ...            ...  \n",
       "117046           7500              1  \n",
       "117213           1500              1  \n",
       "117224           1500              1  \n",
       "117239           1500              1  \n",
       "117628           2500              1  \n",
       "\n",
       "[875 rows x 11 columns]"
      ]
     },
     "execution_count": 100,
     "metadata": {},
     "output_type": "execute_result"
    }
   ],
   "source": [
    "(data[data['fraudReported']!=0])"
   ]
  },
  {
   "cell_type": "code",
   "execution_count": 101,
   "id": "cd05613d",
   "metadata": {},
   "outputs": [
    {
     "data": {
      "text/plain": [
       "(118621, 11)"
      ]
     },
     "execution_count": 101,
     "metadata": {},
     "output_type": "execute_result"
    }
   ],
   "source": [
    "data.shape"
   ]
  },
  {
   "cell_type": "code",
   "execution_count": 102,
   "id": "c0bd81b7",
   "metadata": {},
   "outputs": [
    {
     "name": "stdout",
     "output_type": "stream",
     "text": [
      "<class 'pandas.core.frame.DataFrame'>\n",
      "RangeIndex: 118621 entries, 0 to 118620\n",
      "Data columns (total 11 columns):\n",
      " #   Column             Non-Null Count   Dtype  \n",
      "---  ------             --------------   -----  \n",
      " 0   transactionTime    118621 non-null  object \n",
      " 1   eventId            118621 non-null  object \n",
      " 2   accountNumber      118621 non-null  object \n",
      " 3   merchantId         118621 non-null  object \n",
      " 4   mcc                118621 non-null  int64  \n",
      " 5   merchantCountry    118621 non-null  int64  \n",
      " 6   merchantZip        95616 non-null   object \n",
      " 7   posEntryMode       118621 non-null  int64  \n",
      " 8   transactionAmount  118621 non-null  float64\n",
      " 9   availableCash      118621 non-null  int64  \n",
      " 10  fraudReported      118621 non-null  int32  \n",
      "dtypes: float64(1), int32(1), int64(4), object(5)\n",
      "memory usage: 9.5+ MB\n"
     ]
    }
   ],
   "source": [
    "data.info()"
   ]
  },
  {
   "cell_type": "code",
   "execution_count": 103,
   "id": "0253ed93",
   "metadata": {},
   "outputs": [],
   "source": [
    "# check for negative values\n",
    "numerical_features = [col for col in data.columns if data[col].dtype != 'O']"
   ]
  },
  {
   "cell_type": "code",
   "execution_count": 104,
   "id": "dc47ed12",
   "metadata": {},
   "outputs": [
    {
     "name": "stdout",
     "output_type": "stream",
     "text": [
      "transactionAmount has 183 negative values\n"
     ]
    }
   ],
   "source": [
    "for col in numerical_features:\n",
    "    if data[data[col] < 0].shape[0] > 1:\n",
    "        print(f'{col} has {data[data[col] < 0].shape[0]} negative values')\n",
    "        "
   ]
  },
  {
   "cell_type": "markdown",
   "id": "4f4305d1",
   "metadata": {},
   "source": [
    "check for neg values first, fraud or not"
   ]
  },
  {
   "cell_type": "code",
   "execution_count": 105,
   "id": "c76e8072",
   "metadata": {},
   "outputs": [
    {
     "data": {
      "text/html": [
       "<div>\n",
       "<style scoped>\n",
       "    .dataframe tbody tr th:only-of-type {\n",
       "        vertical-align: middle;\n",
       "    }\n",
       "\n",
       "    .dataframe tbody tr th {\n",
       "        vertical-align: top;\n",
       "    }\n",
       "\n",
       "    .dataframe thead th {\n",
       "        text-align: right;\n",
       "    }\n",
       "</style>\n",
       "<table border=\"1\" class=\"dataframe\">\n",
       "  <thead>\n",
       "    <tr style=\"text-align: right;\">\n",
       "      <th></th>\n",
       "      <th>transactionTime</th>\n",
       "      <th>eventId</th>\n",
       "      <th>accountNumber</th>\n",
       "      <th>merchantId</th>\n",
       "      <th>mcc</th>\n",
       "      <th>merchantCountry</th>\n",
       "      <th>merchantZip</th>\n",
       "      <th>posEntryMode</th>\n",
       "      <th>transactionAmount</th>\n",
       "      <th>availableCash</th>\n",
       "      <th>fraudReported</th>\n",
       "    </tr>\n",
       "  </thead>\n",
       "  <tbody>\n",
       "    <tr>\n",
       "      <th>90279</th>\n",
       "      <td>2017-10-23T08:50:21Z</td>\n",
       "      <td>47542019A1</td>\n",
       "      <td>3ec9dda7</td>\n",
       "      <td>e8e752</td>\n",
       "      <td>5942</td>\n",
       "      <td>124</td>\n",
       "      <td>NaN</td>\n",
       "      <td>81</td>\n",
       "      <td>-0.03</td>\n",
       "      <td>3500</td>\n",
       "      <td>1</td>\n",
       "    </tr>\n",
       "    <tr>\n",
       "      <th>90334</th>\n",
       "      <td>2017-10-23T08:24:02Z</td>\n",
       "      <td>47545619A1</td>\n",
       "      <td>3ec9dda7</td>\n",
       "      <td>e8e752</td>\n",
       "      <td>5942</td>\n",
       "      <td>124</td>\n",
       "      <td>NaN</td>\n",
       "      <td>81</td>\n",
       "      <td>-0.12</td>\n",
       "      <td>3500</td>\n",
       "      <td>1</td>\n",
       "    </tr>\n",
       "    <tr>\n",
       "      <th>90357</th>\n",
       "      <td>2017-10-23T11:47:20Z</td>\n",
       "      <td>47544563A1</td>\n",
       "      <td>3ec9dda7</td>\n",
       "      <td>e8e752</td>\n",
       "      <td>5942</td>\n",
       "      <td>124</td>\n",
       "      <td>NaN</td>\n",
       "      <td>81</td>\n",
       "      <td>-0.03</td>\n",
       "      <td>3500</td>\n",
       "      <td>1</td>\n",
       "    </tr>\n",
       "  </tbody>\n",
       "</table>\n",
       "</div>"
      ],
      "text/plain": [
       "            transactionTime     eventId accountNumber merchantId   mcc  \\\n",
       "90279  2017-10-23T08:50:21Z  47542019A1      3ec9dda7     e8e752  5942   \n",
       "90334  2017-10-23T08:24:02Z  47545619A1      3ec9dda7     e8e752  5942   \n",
       "90357  2017-10-23T11:47:20Z  47544563A1      3ec9dda7     e8e752  5942   \n",
       "\n",
       "       merchantCountry merchantZip  posEntryMode  transactionAmount  \\\n",
       "90279              124         NaN            81              -0.03   \n",
       "90334              124         NaN            81              -0.12   \n",
       "90357              124         NaN            81              -0.03   \n",
       "\n",
       "       availableCash  fraudReported  \n",
       "90279           3500              1  \n",
       "90334           3500              1  \n",
       "90357           3500              1  "
      ]
     },
     "execution_count": 105,
     "metadata": {},
     "output_type": "execute_result"
    }
   ],
   "source": [
    "neg_transaction = data[data['transactionAmount'] < 0]\n",
    "neg_transaction[neg_transaction['fraudReported'] == 1]"
   ]
  },
  {
   "cell_type": "code",
   "execution_count": 106,
   "id": "96865a69",
   "metadata": {},
   "outputs": [
    {
     "data": {
      "text/plain": [
       "(31, 11)"
      ]
     },
     "execution_count": 106,
     "metadata": {},
     "output_type": "execute_result"
    }
   ],
   "source": [
    "data[data['transactionAmount'] > data['availableCash']].shape"
   ]
  },
  {
   "cell_type": "code",
   "execution_count": null,
   "id": "24e855c5",
   "metadata": {},
   "outputs": [],
   "source": []
  },
  {
   "cell_type": "code",
   "execution_count": 107,
   "id": "7150e766",
   "metadata": {},
   "outputs": [],
   "source": [
    "data['transactionTime'] = pd.to_datetime(data['transactionTime'])"
   ]
  },
  {
   "cell_type": "code",
   "execution_count": 108,
   "id": "0377ae52",
   "metadata": {},
   "outputs": [],
   "source": [
    "data.drop_duplicates(inplace=True)"
   ]
  },
  {
   "cell_type": "code",
   "execution_count": 109,
   "id": "13c4befb",
   "metadata": {},
   "outputs": [
    {
     "data": {
      "text/plain": [
       "(118621, 11)"
      ]
     },
     "execution_count": 109,
     "metadata": {},
     "output_type": "execute_result"
    }
   ],
   "source": [
    "data.shape"
   ]
  },
  {
   "cell_type": "markdown",
   "id": "8f9e3b21",
   "metadata": {},
   "source": [
    "# EDA"
   ]
  },
  {
   "cell_type": "markdown",
   "id": "4294c3a8",
   "metadata": {},
   "source": [
    "#### Check for balanced data"
   ]
  },
  {
   "cell_type": "code",
   "execution_count": 110,
   "id": "bca1b59f",
   "metadata": {},
   "outputs": [
    {
     "data": {
      "text/plain": [
       "<AxesSubplot:xlabel='fraudReported', ylabel='count'>"
      ]
     },
     "execution_count": 110,
     "metadata": {},
     "output_type": "execute_result"
    },
    {
     "data": {
      "image/png": "[encoded data removed]",
      "text/plain": [
       "<Figure size 360x360 with 1 Axes>"
      ]
     },
     "metadata": {},
     "output_type": "display_data"
    }
   ],
   "source": [
    "plt.figure(figsize = (5, 5))\n",
    "sns.countplot(data['fraudReported'])"
   ]
  },
  {
   "cell_type": "code",
   "execution_count": 111,
   "id": "ef8e6903",
   "metadata": {},
   "outputs": [
    {
     "name": "stdout",
     "output_type": "stream",
     "text": [
      "% of fraudulent cases: 0.74\n"
     ]
    }
   ],
   "source": [
    "print(f\"% of fraudulent cases: {round(len(data[data['fraudReported'] == 1])/len(data)*100, 2)}\")"
   ]
  },
  {
   "cell_type": "markdown",
   "id": "23b057a1",
   "metadata": {},
   "source": [
    "#### How do the frauds reported distributed across months? Are they uniform of random?"
   ]
  },
  {
   "cell_type": "code",
   "execution_count": 112,
   "id": "c4e3589e",
   "metadata": {},
   "outputs": [
    {
     "data": {
      "text/html": [
       "<div>\n",
       "<style scoped>\n",
       "    .dataframe tbody tr th:only-of-type {\n",
       "        vertical-align: middle;\n",
       "    }\n",
       "\n",
       "    .dataframe tbody tr th {\n",
       "        vertical-align: top;\n",
       "    }\n",
       "\n",
       "    .dataframe thead th {\n",
       "        text-align: right;\n",
       "    }\n",
       "</style>\n",
       "<table border=\"1\" class=\"dataframe\">\n",
       "  <thead>\n",
       "    <tr style=\"text-align: right;\">\n",
       "      <th></th>\n",
       "      <th>transactionTime</th>\n",
       "      <th>fraudReported</th>\n",
       "    </tr>\n",
       "  </thead>\n",
       "  <tbody>\n",
       "    <tr>\n",
       "      <th>0</th>\n",
       "      <td>2017/01</td>\n",
       "      <td>36</td>\n",
       "    </tr>\n",
       "    <tr>\n",
       "      <th>1</th>\n",
       "      <td>2017/02</td>\n",
       "      <td>31</td>\n",
       "    </tr>\n",
       "    <tr>\n",
       "      <th>2</th>\n",
       "      <td>2017/03</td>\n",
       "      <td>71</td>\n",
       "    </tr>\n",
       "    <tr>\n",
       "      <th>3</th>\n",
       "      <td>2017/04</td>\n",
       "      <td>59</td>\n",
       "    </tr>\n",
       "    <tr>\n",
       "      <th>4</th>\n",
       "      <td>2017/05</td>\n",
       "      <td>25</td>\n",
       "    </tr>\n",
       "    <tr>\n",
       "      <th>5</th>\n",
       "      <td>2017/06</td>\n",
       "      <td>151</td>\n",
       "    </tr>\n",
       "    <tr>\n",
       "      <th>6</th>\n",
       "      <td>2017/07</td>\n",
       "      <td>92</td>\n",
       "    </tr>\n",
       "    <tr>\n",
       "      <th>7</th>\n",
       "      <td>2017/08</td>\n",
       "      <td>74</td>\n",
       "    </tr>\n",
       "    <tr>\n",
       "      <th>8</th>\n",
       "      <td>2017/09</td>\n",
       "      <td>110</td>\n",
       "    </tr>\n",
       "    <tr>\n",
       "      <th>9</th>\n",
       "      <td>2017/10</td>\n",
       "      <td>101</td>\n",
       "    </tr>\n",
       "    <tr>\n",
       "      <th>10</th>\n",
       "      <td>2017/11</td>\n",
       "      <td>42</td>\n",
       "    </tr>\n",
       "    <tr>\n",
       "      <th>11</th>\n",
       "      <td>2017/12</td>\n",
       "      <td>44</td>\n",
       "    </tr>\n",
       "    <tr>\n",
       "      <th>12</th>\n",
       "      <td>2018/01</td>\n",
       "      <td>39</td>\n",
       "    </tr>\n",
       "  </tbody>\n",
       "</table>\n",
       "</div>"
      ],
      "text/plain": [
       "   transactionTime  fraudReported\n",
       "0          2017/01             36\n",
       "1          2017/02             31\n",
       "2          2017/03             71\n",
       "3          2017/04             59\n",
       "4          2017/05             25\n",
       "5          2017/06            151\n",
       "6          2017/07             92\n",
       "7          2017/08             74\n",
       "8          2017/09            110\n",
       "9          2017/10            101\n",
       "10         2017/11             42\n",
       "11         2017/12             44\n",
       "12         2018/01             39"
      ]
     },
     "execution_count": 112,
     "metadata": {},
     "output_type": "execute_result"
    }
   ],
   "source": [
    "grouped_date = pd.DataFrame(data.groupby(data['transactionTime'].dt.strftime('%Y/%m'))['fraudReported'].sum()).reset_index()\n",
    "grouped_date"
   ]
  },
  {
   "cell_type": "code",
   "execution_count": 113,
   "id": "bf0e1316",
   "metadata": {},
   "outputs": [
    {
     "data": {
      "text/html": [
       "<div>\n",
       "<style scoped>\n",
       "    .dataframe tbody tr th:only-of-type {\n",
       "        vertical-align: middle;\n",
       "    }\n",
       "\n",
       "    .dataframe tbody tr th {\n",
       "        vertical-align: top;\n",
       "    }\n",
       "\n",
       "    .dataframe thead th {\n",
       "        text-align: right;\n",
       "    }\n",
       "</style>\n",
       "<table border=\"1\" class=\"dataframe\">\n",
       "  <thead>\n",
       "    <tr style=\"text-align: right;\">\n",
       "      <th></th>\n",
       "      <th>transactionTime</th>\n",
       "      <th>eventId</th>\n",
       "      <th>accountNumber</th>\n",
       "      <th>merchantId</th>\n",
       "      <th>mcc</th>\n",
       "      <th>merchantCountry</th>\n",
       "      <th>merchantZip</th>\n",
       "      <th>posEntryMode</th>\n",
       "      <th>transactionAmount</th>\n",
       "      <th>availableCash</th>\n",
       "      <th>fraudReported</th>\n",
       "    </tr>\n",
       "  </thead>\n",
       "  <tbody>\n",
       "    <tr>\n",
       "      <th>0</th>\n",
       "      <td>2017-01-01 00:00:00+00:00</td>\n",
       "      <td>18688431A1</td>\n",
       "      <td>94f9b4e7</td>\n",
       "      <td>b76d06</td>\n",
       "      <td>5968</td>\n",
       "      <td>826</td>\n",
       "      <td>CR0</td>\n",
       "      <td>1</td>\n",
       "      <td>10.72</td>\n",
       "      <td>7500</td>\n",
       "      <td>0</td>\n",
       "    </tr>\n",
       "    <tr>\n",
       "      <th>1</th>\n",
       "      <td>2017-01-01 00:49:03+00:00</td>\n",
       "      <td>2164986A1</td>\n",
       "      <td>648e19cf</td>\n",
       "      <td>718cc6</td>\n",
       "      <td>5499</td>\n",
       "      <td>826</td>\n",
       "      <td>DE14</td>\n",
       "      <td>81</td>\n",
       "      <td>21.19</td>\n",
       "      <td>4500</td>\n",
       "      <td>0</td>\n",
       "    </tr>\n",
       "    <tr>\n",
       "      <th>2</th>\n",
       "      <td>2017-01-01 00:43:17+00:00</td>\n",
       "      <td>31294145A1</td>\n",
       "      <td>c0ffab1b</td>\n",
       "      <td>94cafc</td>\n",
       "      <td>5735</td>\n",
       "      <td>442</td>\n",
       "      <td>NaN</td>\n",
       "      <td>81</td>\n",
       "      <td>5.04</td>\n",
       "      <td>9500</td>\n",
       "      <td>0</td>\n",
       "    </tr>\n",
       "    <tr>\n",
       "      <th>3</th>\n",
       "      <td>2017-01-01 00:15:07+00:00</td>\n",
       "      <td>11162049A1</td>\n",
       "      <td>038099dd</td>\n",
       "      <td>7d5803</td>\n",
       "      <td>5499</td>\n",
       "      <td>826</td>\n",
       "      <td>NR1</td>\n",
       "      <td>81</td>\n",
       "      <td>21.00</td>\n",
       "      <td>7500</td>\n",
       "      <td>0</td>\n",
       "    </tr>\n",
       "    <tr>\n",
       "      <th>4</th>\n",
       "      <td>2017-01-01 00:37:09+00:00</td>\n",
       "      <td>17067235A1</td>\n",
       "      <td>3130363b</td>\n",
       "      <td>12ca76</td>\n",
       "      <td>5411</td>\n",
       "      <td>826</td>\n",
       "      <td>M50</td>\n",
       "      <td>81</td>\n",
       "      <td>47.00</td>\n",
       "      <td>10500</td>\n",
       "      <td>0</td>\n",
       "    </tr>\n",
       "  </tbody>\n",
       "</table>\n",
       "</div>"
      ],
      "text/plain": [
       "            transactionTime     eventId accountNumber merchantId   mcc  \\\n",
       "0 2017-01-01 00:00:00+00:00  18688431A1      94f9b4e7     b76d06  5968   \n",
       "1 2017-01-01 00:49:03+00:00   2164986A1      648e19cf     718cc6  5499   \n",
       "2 2017-01-01 00:43:17+00:00  31294145A1      c0ffab1b     94cafc  5735   \n",
       "3 2017-01-01 00:15:07+00:00  11162049A1      038099dd     7d5803  5499   \n",
       "4 2017-01-01 00:37:09+00:00  17067235A1      3130363b     12ca76  5411   \n",
       "\n",
       "   merchantCountry merchantZip  posEntryMode  transactionAmount  \\\n",
       "0              826         CR0             1              10.72   \n",
       "1              826        DE14            81              21.19   \n",
       "2              442         NaN            81               5.04   \n",
       "3              826         NR1            81              21.00   \n",
       "4              826         M50            81              47.00   \n",
       "\n",
       "   availableCash  fraudReported  \n",
       "0           7500              0  \n",
       "1           4500              0  \n",
       "2           9500              0  \n",
       "3           7500              0  \n",
       "4          10500              0  "
      ]
     },
     "execution_count": 113,
     "metadata": {},
     "output_type": "execute_result"
    }
   ],
   "source": [
    "data.head()"
   ]
  },
  {
   "cell_type": "code",
   "execution_count": 114,
   "id": "8aaee777",
   "metadata": {},
   "outputs": [],
   "source": [
    "data['yearMonth'] = data['transactionTime'].map(lambda x: str(x.year)+'_'+str(x.month))"
   ]
  },
  {
   "cell_type": "code",
   "execution_count": 115,
   "id": "87476792",
   "metadata": {},
   "outputs": [
    {
     "data": {
      "image/png": "[encoded data removed]",
      "text/plain": [
       "<Figure size 1080x360 with 1 Axes>"
      ]
     },
     "metadata": {},
     "output_type": "display_data"
    }
   ],
   "source": [
    "plt.figure(figsize = (15, 5))\n",
    "sns.barplot(data=grouped_date, x='transactionTime', y='fraudReported')\n",
    "plt.title('Fraud transactions reported per month', fontsize=14)\n",
    "plt.xlabel('months', fontsize=14)\n",
    "plt.grid(visible=True, which='both')\n",
    "plt.show()"
   ]
  },
  {
   "cell_type": "code",
   "execution_count": 116,
   "id": "e5149014",
   "metadata": {},
   "outputs": [
    {
     "data": {
      "image/png": "[encoded data removed]",
      "text/plain": [
       "<Figure size 1080x360 with 1 Axes>"
      ]
     },
     "metadata": {},
     "output_type": "display_data"
    }
   ],
   "source": [
    "grouped_date_all = pd.DataFrame(data.groupby(data['transactionTime'].dt.strftime('%Y/%m'))['fraudReported'].count()).reset_index()\n",
    "\n",
    "plt.figure(figsize = (15, 5))\n",
    "sns.barplot(data=grouped_date_all, x='transactionTime', y='fraudReported')\n",
    "plt.title('Number of transactions per month', fontsize=14)\n",
    "plt.xlabel('months', fontsize=14)\n",
    "plt.grid(visible=True, which='both')\n",
    "plt.show()"
   ]
  },
  {
   "cell_type": "markdown",
   "id": "42cb0f81",
   "metadata": {},
   "source": [
    "#### Which account number has the frauds against them? "
   ]
  },
  {
   "cell_type": "code",
   "execution_count": 117,
   "id": "2e3ce9b3",
   "metadata": {},
   "outputs": [],
   "source": [
    "grouped_accno = pd.DataFrame(data.groupby(data['accountNumber'])['fraudReported'].sum().sort_values(ascending=False)).reset_index()"
   ]
  },
  {
   "cell_type": "code",
   "execution_count": 118,
   "id": "1b959905",
   "metadata": {},
   "outputs": [
    {
     "data": {
      "text/html": [
       "<div>\n",
       "<style scoped>\n",
       "    .dataframe tbody tr th:only-of-type {\n",
       "        vertical-align: middle;\n",
       "    }\n",
       "\n",
       "    .dataframe tbody tr th {\n",
       "        vertical-align: top;\n",
       "    }\n",
       "\n",
       "    .dataframe thead th {\n",
       "        text-align: right;\n",
       "    }\n",
       "</style>\n",
       "<table border=\"1\" class=\"dataframe\">\n",
       "  <thead>\n",
       "    <tr style=\"text-align: right;\">\n",
       "      <th></th>\n",
       "      <th>accountNumber</th>\n",
       "      <th>fraudReported</th>\n",
       "    </tr>\n",
       "  </thead>\n",
       "  <tbody>\n",
       "    <tr>\n",
       "      <th>0</th>\n",
       "      <td>8b9c15ea</td>\n",
       "      <td>97</td>\n",
       "    </tr>\n",
       "    <tr>\n",
       "      <th>1</th>\n",
       "      <td>3ec9dda7</td>\n",
       "      <td>59</td>\n",
       "    </tr>\n",
       "    <tr>\n",
       "      <th>2</th>\n",
       "      <td>6bab7602</td>\n",
       "      <td>48</td>\n",
       "    </tr>\n",
       "    <tr>\n",
       "      <th>3</th>\n",
       "      <td>39219923</td>\n",
       "      <td>45</td>\n",
       "    </tr>\n",
       "    <tr>\n",
       "      <th>4</th>\n",
       "      <td>1602df4e</td>\n",
       "      <td>41</td>\n",
       "    </tr>\n",
       "    <tr>\n",
       "      <th>5</th>\n",
       "      <td>7728d696</td>\n",
       "      <td>41</td>\n",
       "    </tr>\n",
       "    <tr>\n",
       "      <th>6</th>\n",
       "      <td>749acd16</td>\n",
       "      <td>24</td>\n",
       "    </tr>\n",
       "    <tr>\n",
       "      <th>7</th>\n",
       "      <td>0646d69d</td>\n",
       "      <td>24</td>\n",
       "    </tr>\n",
       "    <tr>\n",
       "      <th>8</th>\n",
       "      <td>bd9f22c1</td>\n",
       "      <td>18</td>\n",
       "    </tr>\n",
       "    <tr>\n",
       "      <th>9</th>\n",
       "      <td>4547ba27</td>\n",
       "      <td>17</td>\n",
       "    </tr>\n",
       "  </tbody>\n",
       "</table>\n",
       "</div>"
      ],
      "text/plain": [
       "  accountNumber  fraudReported\n",
       "0      8b9c15ea             97\n",
       "1      3ec9dda7             59\n",
       "2      6bab7602             48\n",
       "3      39219923             45\n",
       "4      1602df4e             41\n",
       "5      7728d696             41\n",
       "6      749acd16             24\n",
       "7      0646d69d             24\n",
       "8      bd9f22c1             18\n",
       "9      4547ba27             17"
      ]
     },
     "execution_count": 118,
     "metadata": {},
     "output_type": "execute_result"
    }
   ],
   "source": [
    "top10_sus_accno = grouped_accno[grouped_accno['fraudReported'] != 0][:10]\n",
    "top10_sus_accno"
   ]
  },
  {
   "cell_type": "code",
   "execution_count": 119,
   "id": "c6153942",
   "metadata": {},
   "outputs": [],
   "source": []
  },
  {
   "cell_type": "code",
   "execution_count": 128,
   "id": "4dfaf716",
   "metadata": {},
   "outputs": [
    {
     "data": {
      "image/png": "[encoded data removed]",
      "text/plain": [
       "<Figure size 864x360 with 1 Axes>"
      ]
     },
     "metadata": {},
     "output_type": "display_data"
    }
   ],
   "source": [
    "\n",
    "fig = plt.figure(figsize = (12,5))\n",
    "bars = plt.bar(data=top10_sus_accno, x='accountNumber', height='fraudReported', color='skyblue')\n",
    "for bar in bars:\n",
    "    yval = bar.get_height()\n",
    "    plt.text(bar.get_x() + 0.35, yval + 0.7, yval)\n",
    "plt.title('Account numbers with highest fraudulent transactions', fontsize=14)\n",
    "plt.xlabel('Account number', fontsize=14)\n",
    "plt.grid(visible=True, which='both')\n",
    "plt.show()"
   ]
  },
  {
   "cell_type": "markdown",
   "id": "8f9ce963",
   "metadata": {},
   "source": [
    "Account number is a very important feature in determining the fraudulent transaction as per the analysis above. There are a couple of accounts where there are more fraudulent transactions than successful ones which can be suspicious."
   ]
  },
  {
   "cell_type": "markdown",
   "id": "05113bf4",
   "metadata": {},
   "source": [
    "#### Which  merchant id has the frauds against them? "
   ]
  },
  {
   "cell_type": "code",
   "execution_count": 48,
   "id": "75b5ff5a",
   "metadata": {},
   "outputs": [],
   "source": [
    "grouped_merno = pd.DataFrame(data.groupby(data['merchantId'])['fraudReported'].sum().sort_values(ascending=False)).reset_index()"
   ]
  },
  {
   "cell_type": "code",
   "execution_count": 68,
   "id": "8d8e006d",
   "metadata": {},
   "outputs": [
    {
     "data": {
      "image/png": "[encoded data removed]",
      "text/plain": [
       "<Figure size 864x360 with 1 Axes>"
      ]
     },
     "metadata": {},
     "output_type": "display_data"
    }
   ],
   "source": [
    "top10_sus_merno = grouped_merno[grouped_merno['fraudReported'] != 0][:10]\n",
    "top10_sus_merno\n",
    "\n",
    "fig = plt.figure(figsize = (12,5))\n",
    "bars = plt.bar(data=top10_sus_merno, x='merchantId', height='fraudReported', color = 'SkyBlue')\n",
    "for bar in bars:\n",
    "    yval = bar.get_height()\n",
    "    plt.text(bar.get_x() + 0.35, yval + 0.7, yval)\n",
    "plt.title('Merchant IDs with highest fraudulent transactions', fontsize=14)\n",
    "plt.xlabel('Merchant ID', fontsize=14)\n",
    "plt.grid(visible=True, which='both')\n",
    "plt.show()"
   ]
  },
  {
   "cell_type": "code",
   "execution_count": 39,
   "id": "352a89d5",
   "metadata": {},
   "outputs": [
    {
     "data": {
      "image/png": "[encoded data removed]",
      "text/plain": [
       "<Figure size 864x360 with 1 Axes>"
      ]
     },
     "metadata": {},
     "output_type": "display_data"
    }
   ],
   "source": [
    "top10merlist = top10_sus_merno['merchantId'].tolist()\n",
    "\n",
    "top10 = data.loc[data['merchantId'].isin(top10merlist)]\n",
    "\n",
    "fig = plt.figure(figsize = (12,5))\n",
    "sns.countplot(data=top10, x='merchantId', hue='fraudReported')\n",
    "plt.legend(bbox_to_anchor=(1.2,0.5), title=\"Fraud Reported\", fontsize=10, loc='right')\n",
    "plt.title('Merchant IDs with highest fraudulent transactions', fontsize=14)\n",
    "plt.xlabel('Merchant ID', fontsize=14)\n",
    "plt.grid(visible=True, which='both')\n",
    "plt.show()"
   ]
  },
  {
   "cell_type": "markdown",
   "id": "38b30d33",
   "metadata": {},
   "source": [
    "#### Which country of the merchant has the frauds reported.\n"
   ]
  },
  {
   "cell_type": "code",
   "execution_count": 40,
   "id": "38a6ff2a",
   "metadata": {},
   "outputs": [],
   "source": [
    "grouped_mercntry = pd.DataFrame(data.groupby(data['merchantCountry'])['fraudReported'].sum().sort_values(ascending=False)).reset_index()"
   ]
  },
  {
   "cell_type": "code",
   "execution_count": 41,
   "id": "48a33101",
   "metadata": {},
   "outputs": [
    {
     "data": {
      "text/html": [
       "<div>\n",
       "<style scoped>\n",
       "    .dataframe tbody tr th:only-of-type {\n",
       "        vertical-align: middle;\n",
       "    }\n",
       "\n",
       "    .dataframe tbody tr th {\n",
       "        vertical-align: top;\n",
       "    }\n",
       "\n",
       "    .dataframe thead th {\n",
       "        text-align: right;\n",
       "    }\n",
       "</style>\n",
       "<table border=\"1\" class=\"dataframe\">\n",
       "  <thead>\n",
       "    <tr style=\"text-align: right;\">\n",
       "      <th></th>\n",
       "      <th>merchantCountry</th>\n",
       "      <th>fraudReported</th>\n",
       "    </tr>\n",
       "  </thead>\n",
       "  <tbody>\n",
       "    <tr>\n",
       "      <th>0</th>\n",
       "      <td>826</td>\n",
       "      <td>314</td>\n",
       "    </tr>\n",
       "    <tr>\n",
       "      <th>1</th>\n",
       "      <td>840</td>\n",
       "      <td>257</td>\n",
       "    </tr>\n",
       "    <tr>\n",
       "      <th>2</th>\n",
       "      <td>442</td>\n",
       "      <td>139</td>\n",
       "    </tr>\n",
       "    <tr>\n",
       "      <th>3</th>\n",
       "      <td>372</td>\n",
       "      <td>26</td>\n",
       "    </tr>\n",
       "    <tr>\n",
       "      <th>4</th>\n",
       "      <td>196</td>\n",
       "      <td>23</td>\n",
       "    </tr>\n",
       "    <tr>\n",
       "      <th>5</th>\n",
       "      <td>36</td>\n",
       "      <td>18</td>\n",
       "    </tr>\n",
       "    <tr>\n",
       "      <th>6</th>\n",
       "      <td>250</td>\n",
       "      <td>15</td>\n",
       "    </tr>\n",
       "    <tr>\n",
       "      <th>7</th>\n",
       "      <td>292</td>\n",
       "      <td>14</td>\n",
       "    </tr>\n",
       "    <tr>\n",
       "      <th>8</th>\n",
       "      <td>724</td>\n",
       "      <td>11</td>\n",
       "    </tr>\n",
       "    <tr>\n",
       "      <th>9</th>\n",
       "      <td>124</td>\n",
       "      <td>10</td>\n",
       "    </tr>\n",
       "  </tbody>\n",
       "</table>\n",
       "</div>"
      ],
      "text/plain": [
       "   merchantCountry  fraudReported\n",
       "0              826            314\n",
       "1              840            257\n",
       "2              442            139\n",
       "3              372             26\n",
       "4              196             23\n",
       "5               36             18\n",
       "6              250             15\n",
       "7              292             14\n",
       "8              724             11\n",
       "9              124             10"
      ]
     },
     "execution_count": 41,
     "metadata": {},
     "output_type": "execute_result"
    }
   ],
   "source": [
    "top10_sus_mercntry = grouped_mercntry[grouped_mercntry['fraudReported'] != 0][:10]\n",
    "top10_sus_mercntry"
   ]
  },
  {
   "cell_type": "code",
   "execution_count": 42,
   "id": "b8c94fe9",
   "metadata": {},
   "outputs": [
    {
     "data": {
      "text/html": [
       "<div>\n",
       "<style scoped>\n",
       "    .dataframe tbody tr th:only-of-type {\n",
       "        vertical-align: middle;\n",
       "    }\n",
       "\n",
       "    .dataframe tbody tr th {\n",
       "        vertical-align: top;\n",
       "    }\n",
       "\n",
       "    .dataframe thead th {\n",
       "        text-align: right;\n",
       "    }\n",
       "</style>\n",
       "<table border=\"1\" class=\"dataframe\">\n",
       "  <thead>\n",
       "    <tr style=\"text-align: right;\">\n",
       "      <th></th>\n",
       "      <th>merchantCountry</th>\n",
       "      <th>fraudReported_1</th>\n",
       "      <th>fraudReported</th>\n",
       "      <th>percentageFraud</th>\n",
       "    </tr>\n",
       "  </thead>\n",
       "  <tbody>\n",
       "    <tr>\n",
       "      <th>0</th>\n",
       "      <td>826</td>\n",
       "      <td>314</td>\n",
       "      <td>95616</td>\n",
       "      <td>0.003284</td>\n",
       "    </tr>\n",
       "    <tr>\n",
       "      <th>1</th>\n",
       "      <td>840</td>\n",
       "      <td>257</td>\n",
       "      <td>2873</td>\n",
       "      <td>0.089454</td>\n",
       "    </tr>\n",
       "    <tr>\n",
       "      <th>2</th>\n",
       "      <td>442</td>\n",
       "      <td>139</td>\n",
       "      <td>14929</td>\n",
       "      <td>0.009311</td>\n",
       "    </tr>\n",
       "    <tr>\n",
       "      <th>3</th>\n",
       "      <td>372</td>\n",
       "      <td>26</td>\n",
       "      <td>1414</td>\n",
       "      <td>0.018388</td>\n",
       "    </tr>\n",
       "    <tr>\n",
       "      <th>4</th>\n",
       "      <td>196</td>\n",
       "      <td>23</td>\n",
       "      <td>186</td>\n",
       "      <td>0.123656</td>\n",
       "    </tr>\n",
       "    <tr>\n",
       "      <th>5</th>\n",
       "      <td>36</td>\n",
       "      <td>18</td>\n",
       "      <td>83</td>\n",
       "      <td>0.216867</td>\n",
       "    </tr>\n",
       "    <tr>\n",
       "      <th>6</th>\n",
       "      <td>250</td>\n",
       "      <td>15</td>\n",
       "      <td>483</td>\n",
       "      <td>0.031056</td>\n",
       "    </tr>\n",
       "    <tr>\n",
       "      <th>7</th>\n",
       "      <td>292</td>\n",
       "      <td>14</td>\n",
       "      <td>216</td>\n",
       "      <td>0.064815</td>\n",
       "    </tr>\n",
       "    <tr>\n",
       "      <th>8</th>\n",
       "      <td>724</td>\n",
       "      <td>11</td>\n",
       "      <td>298</td>\n",
       "      <td>0.036913</td>\n",
       "    </tr>\n",
       "    <tr>\n",
       "      <th>9</th>\n",
       "      <td>124</td>\n",
       "      <td>10</td>\n",
       "      <td>142</td>\n",
       "      <td>0.070423</td>\n",
       "    </tr>\n",
       "  </tbody>\n",
       "</table>\n",
       "</div>"
      ],
      "text/plain": [
       "   merchantCountry  fraudReported_1  fraudReported  percentageFraud\n",
       "0              826              314          95616         0.003284\n",
       "1              840              257           2873         0.089454\n",
       "2              442              139          14929         0.009311\n",
       "3              372               26           1414         0.018388\n",
       "4              196               23            186         0.123656\n",
       "5               36               18             83         0.216867\n",
       "6              250               15            483         0.031056\n",
       "7              292               14            216         0.064815\n",
       "8              724               11            298         0.036913\n",
       "9              124               10            142         0.070423"
      ]
     },
     "execution_count": 42,
     "metadata": {},
     "output_type": "execute_result"
    }
   ],
   "source": [
    "top10merlist = top10_sus_mercntry['merchantCountry'].tolist()\n",
    "\n",
    "top10_mercntry0 = data.loc[data['merchantCountry'].isin(top10merlist)]\n",
    "\n",
    "b = pd.DataFrame(top10_mercntry0.groupby(top10_mercntry0['merchantCountry'])['fraudReported'].count()).reset_index()\n",
    "\n",
    "top10 = top10_sus_mercntry.merge(b, on='merchantCountry').rename(columns={'fraudReported_x':'fraudReported_1', 'fraudReported_y':'fraudReported'})\n",
    "top10['percentageFraud'] = top10['fraudReported_1']/top10['fraudReported']"
   ]
  },
  {
   "cell_type": "code",
   "execution_count": 129,
   "id": "e975a1e8",
   "metadata": {},
   "outputs": [
    {
     "ename": "NameError",
     "evalue": "name 'top10_mercntry0' is not defined",
     "output_type": "error",
     "traceback": [
      "\u001b[1;31m---------------------------------------------------------------------------\u001b[0m",
      "\u001b[1;31mNameError\u001b[0m                                 Traceback (most recent call last)",
      "Input \u001b[1;32mIn [129]\u001b[0m, in \u001b[0;36m<cell line: 2>\u001b[1;34m()\u001b[0m\n\u001b[0;32m      1\u001b[0m fig \u001b[38;5;241m=\u001b[39m plt\u001b[38;5;241m.\u001b[39mfigure(figsize \u001b[38;5;241m=\u001b[39m (\u001b[38;5;241m12\u001b[39m,\u001b[38;5;241m5\u001b[39m))\n\u001b[1;32m----> 2\u001b[0m sns\u001b[38;5;241m.\u001b[39mcountplot(data\u001b[38;5;241m=\u001b[39m\u001b[43mtop10_mercntry0\u001b[49m, x\u001b[38;5;241m=\u001b[39m\u001b[38;5;124m'\u001b[39m\u001b[38;5;124mmerchantCountry\u001b[39m\u001b[38;5;124m'\u001b[39m)\n\u001b[0;32m      3\u001b[0m plt\u001b[38;5;241m.\u001b[39mtitle(\u001b[38;5;124m'\u001b[39m\u001b[38;5;124mMerchant country codes with highest fraudulent transactions\u001b[39m\u001b[38;5;124m'\u001b[39m, fontsize\u001b[38;5;241m=\u001b[39m\u001b[38;5;241m14\u001b[39m)\n\u001b[0;32m      4\u001b[0m plt\u001b[38;5;241m.\u001b[39mxlabel(\u001b[38;5;124m'\u001b[39m\u001b[38;5;124mMerchant country code\u001b[39m\u001b[38;5;124m'\u001b[39m, fontsize\u001b[38;5;241m=\u001b[39m\u001b[38;5;241m14\u001b[39m)\n",
      "\u001b[1;31mNameError\u001b[0m: name 'top10_mercntry0' is not defined"
     ]
    },
    {
     "data": {
      "text/plain": [
       "<Figure size 864x360 with 0 Axes>"
      ]
     },
     "metadata": {},
     "output_type": "display_data"
    }
   ],
   "source": [
    "fig = plt.figure(figsize = (12,5))\n",
    "bars = plt.bar(data=top10, x='merchantCountry', height='fraudReported_1', color = 'Orange')\n",
    "plt.title('Merchant country codes with highest fraudulent transactions', fontsize=14)\n",
    "plt.xlabel('Merchant country code', fontsize=14)\n",
    "plt.grid(visible=True, which='both')\n",
    "plt.show()"
   ]
  },
  {
   "cell_type": "markdown",
   "id": "8b44d25e",
   "metadata": {},
   "source": [
    "#### Does the merchant truncated zip has any pattern in fraud transactions?"
   ]
  },
  {
   "cell_type": "code",
   "execution_count": 44,
   "id": "e571b96e",
   "metadata": {},
   "outputs": [
    {
     "data": {
      "text/html": [
       "<div>\n",
       "<style scoped>\n",
       "    .dataframe tbody tr th:only-of-type {\n",
       "        vertical-align: middle;\n",
       "    }\n",
       "\n",
       "    .dataframe tbody tr th {\n",
       "        vertical-align: top;\n",
       "    }\n",
       "\n",
       "    .dataframe thead th {\n",
       "        text-align: right;\n",
       "    }\n",
       "</style>\n",
       "<table border=\"1\" class=\"dataframe\">\n",
       "  <thead>\n",
       "    <tr style=\"text-align: right;\">\n",
       "      <th></th>\n",
       "      <th>merchantZip</th>\n",
       "      <th>fraudReported</th>\n",
       "    </tr>\n",
       "  </thead>\n",
       "  <tbody>\n",
       "    <tr>\n",
       "      <th>0</th>\n",
       "      <td>0</td>\n",
       "      <td>74</td>\n",
       "    </tr>\n",
       "    <tr>\n",
       "      <th>1</th>\n",
       "      <td>EC3V</td>\n",
       "      <td>14</td>\n",
       "    </tr>\n",
       "    <tr>\n",
       "      <th>2</th>\n",
       "      <td>SL1</td>\n",
       "      <td>10</td>\n",
       "    </tr>\n",
       "    <tr>\n",
       "      <th>3</th>\n",
       "      <td>RG14</td>\n",
       "      <td>8</td>\n",
       "    </tr>\n",
       "    <tr>\n",
       "      <th>4</th>\n",
       "      <td>LS11</td>\n",
       "      <td>7</td>\n",
       "    </tr>\n",
       "    <tr>\n",
       "      <th>5</th>\n",
       "      <td>WC2H</td>\n",
       "      <td>6</td>\n",
       "    </tr>\n",
       "    <tr>\n",
       "      <th>6</th>\n",
       "      <td>AL10</td>\n",
       "      <td>6</td>\n",
       "    </tr>\n",
       "    <tr>\n",
       "      <th>7</th>\n",
       "      <td>WD5</td>\n",
       "      <td>6</td>\n",
       "    </tr>\n",
       "    <tr>\n",
       "      <th>8</th>\n",
       "      <td>GY9</td>\n",
       "      <td>5</td>\n",
       "    </tr>\n",
       "    <tr>\n",
       "      <th>9</th>\n",
       "      <td>GU24</td>\n",
       "      <td>5</td>\n",
       "    </tr>\n",
       "  </tbody>\n",
       "</table>\n",
       "</div>"
      ],
      "text/plain": [
       "  merchantZip  fraudReported\n",
       "0           0             74\n",
       "1        EC3V             14\n",
       "2         SL1             10\n",
       "3        RG14              8\n",
       "4        LS11              7\n",
       "5        WC2H              6\n",
       "6        AL10              6\n",
       "7         WD5              6\n",
       "8         GY9              5\n",
       "9        GU24              5"
      ]
     },
     "execution_count": 44,
     "metadata": {},
     "output_type": "execute_result"
    }
   ],
   "source": [
    "grouped_merczip = pd.DataFrame(data.groupby(data['merchantZip'])['fraudReported'].sum().sort_values(ascending=False)).reset_index()\n",
    "\n",
    "top10_sus_merczip = grouped_merczip[grouped_merczip['fraudReported'] != 0][:10]\n",
    "top10_sus_merczip.head(10)"
   ]
  },
  {
   "cell_type": "markdown",
   "id": "bd86d840",
   "metadata": {},
   "source": [
    "#### Does the merchant category code (mcc) has any pattern in fraud transactions?"
   ]
  },
  {
   "cell_type": "code",
   "execution_count": 43,
   "id": "1cee69bd",
   "metadata": {},
   "outputs": [
    {
     "data": {
      "text/html": [
       "<div>\n",
       "<style scoped>\n",
       "    .dataframe tbody tr th:only-of-type {\n",
       "        vertical-align: middle;\n",
       "    }\n",
       "\n",
       "    .dataframe tbody tr th {\n",
       "        vertical-align: top;\n",
       "    }\n",
       "\n",
       "    .dataframe thead th {\n",
       "        text-align: right;\n",
       "    }\n",
       "</style>\n",
       "<table border=\"1\" class=\"dataframe\">\n",
       "  <thead>\n",
       "    <tr style=\"text-align: right;\">\n",
       "      <th></th>\n",
       "      <th>mcc</th>\n",
       "      <th>fraudReported</th>\n",
       "    </tr>\n",
       "  </thead>\n",
       "  <tbody>\n",
       "    <tr>\n",
       "      <th>0</th>\n",
       "      <td>5735</td>\n",
       "      <td>120</td>\n",
       "    </tr>\n",
       "    <tr>\n",
       "      <th>1</th>\n",
       "      <td>5967</td>\n",
       "      <td>59</td>\n",
       "    </tr>\n",
       "    <tr>\n",
       "      <th>2</th>\n",
       "      <td>4814</td>\n",
       "      <td>46</td>\n",
       "    </tr>\n",
       "    <tr>\n",
       "      <th>3</th>\n",
       "      <td>5734</td>\n",
       "      <td>43</td>\n",
       "    </tr>\n",
       "    <tr>\n",
       "      <th>4</th>\n",
       "      <td>5999</td>\n",
       "      <td>33</td>\n",
       "    </tr>\n",
       "    <tr>\n",
       "      <th>5</th>\n",
       "      <td>7995</td>\n",
       "      <td>33</td>\n",
       "    </tr>\n",
       "    <tr>\n",
       "      <th>6</th>\n",
       "      <td>5969</td>\n",
       "      <td>29</td>\n",
       "    </tr>\n",
       "    <tr>\n",
       "      <th>7</th>\n",
       "      <td>5977</td>\n",
       "      <td>25</td>\n",
       "    </tr>\n",
       "    <tr>\n",
       "      <th>8</th>\n",
       "      <td>5968</td>\n",
       "      <td>25</td>\n",
       "    </tr>\n",
       "    <tr>\n",
       "      <th>9</th>\n",
       "      <td>7372</td>\n",
       "      <td>23</td>\n",
       "    </tr>\n",
       "  </tbody>\n",
       "</table>\n",
       "</div>"
      ],
      "text/plain": [
       "    mcc  fraudReported\n",
       "0  5735            120\n",
       "1  5967             59\n",
       "2  4814             46\n",
       "3  5734             43\n",
       "4  5999             33\n",
       "5  7995             33\n",
       "6  5969             29\n",
       "7  5977             25\n",
       "8  5968             25\n",
       "9  7372             23"
      ]
     },
     "execution_count": 43,
     "metadata": {},
     "output_type": "execute_result"
    }
   ],
   "source": [
    "grouped_mcc = pd.DataFrame(data.groupby(data['mcc'])['fraudReported'].sum().sort_values(ascending=False)).reset_index()\n",
    "\n",
    "top10_sus_mcc = grouped_mcc[grouped_mcc['mcc'] != 0]\n",
    "top10_sus_mcc.head(10)"
   ]
  },
  {
   "cell_type": "markdown",
   "id": "5ebdba6c",
   "metadata": {},
   "source": [
    "#### Does the point od sale (pos) type has any pattern in fraud transactions?"
   ]
  },
  {
   "cell_type": "code",
   "execution_count": 417,
   "id": "1928f204",
   "metadata": {},
   "outputs": [
    {
     "data": {
      "text/html": [
       "<div>\n",
       "<style scoped>\n",
       "    .dataframe tbody tr th:only-of-type {\n",
       "        vertical-align: middle;\n",
       "    }\n",
       "\n",
       "    .dataframe tbody tr th {\n",
       "        vertical-align: top;\n",
       "    }\n",
       "\n",
       "    .dataframe thead th {\n",
       "        text-align: right;\n",
       "    }\n",
       "</style>\n",
       "<table border=\"1\" class=\"dataframe\">\n",
       "  <thead>\n",
       "    <tr style=\"text-align: right;\">\n",
       "      <th></th>\n",
       "      <th>posEntryMode</th>\n",
       "      <th>fraudReported</th>\n",
       "    </tr>\n",
       "  </thead>\n",
       "  <tbody>\n",
       "    <tr>\n",
       "      <th>0</th>\n",
       "      <td>5</td>\n",
       "      <td>70228</td>\n",
       "    </tr>\n",
       "    <tr>\n",
       "      <th>1</th>\n",
       "      <td>81</td>\n",
       "      <td>35832</td>\n",
       "    </tr>\n",
       "    <tr>\n",
       "      <th>2</th>\n",
       "      <td>1</td>\n",
       "      <td>10568</td>\n",
       "    </tr>\n",
       "    <tr>\n",
       "      <th>3</th>\n",
       "      <td>90</td>\n",
       "      <td>1202</td>\n",
       "    </tr>\n",
       "    <tr>\n",
       "      <th>4</th>\n",
       "      <td>7</td>\n",
       "      <td>637</td>\n",
       "    </tr>\n",
       "    <tr>\n",
       "      <th>5</th>\n",
       "      <td>80</td>\n",
       "      <td>92</td>\n",
       "    </tr>\n",
       "    <tr>\n",
       "      <th>6</th>\n",
       "      <td>79</td>\n",
       "      <td>31</td>\n",
       "    </tr>\n",
       "    <tr>\n",
       "      <th>7</th>\n",
       "      <td>2</td>\n",
       "      <td>16</td>\n",
       "    </tr>\n",
       "    <tr>\n",
       "      <th>9</th>\n",
       "      <td>91</td>\n",
       "      <td>4</td>\n",
       "    </tr>\n",
       "  </tbody>\n",
       "</table>\n",
       "</div>"
      ],
      "text/plain": [
       "   posEntryMode  fraudReported\n",
       "0             5          70228\n",
       "1            81          35832\n",
       "2             1          10568\n",
       "3            90           1202\n",
       "4             7            637\n",
       "5            80             92\n",
       "6            79             31\n",
       "7             2             16\n",
       "9            91              4"
      ]
     },
     "execution_count": 417,
     "metadata": {},
     "output_type": "execute_result"
    }
   ],
   "source": [
    "grouped_pos = pd.DataFrame(data.groupby(data['posEntryMode'])['fraudReported'].count().sort_values(ascending=False)).reset_index()\n",
    "\n",
    "top10_sus_pos = grouped_pos[grouped_pos['posEntryMode'] != 0]\n",
    "top10_sus_pos.head(10)"
   ]
  },
  {
   "cell_type": "code",
   "execution_count": 73,
   "id": "db7f27cf",
   "metadata": {},
   "outputs": [],
   "source": [
    "grouped_pos = pd.DataFrame(data.groupby(data['posEntryMode'])['fraudReported'].sum().sort_values(ascending=False)).reset_index()\n",
    "\n",
    "top10_sus_pos = grouped_pos[grouped_pos['posEntryMode'] != 0]\n",
    "top10_sus_pos['posEntryMode'] = top10_sus_pos['posEntryMode'].astype('string')"
   ]
  },
  {
   "cell_type": "code",
   "execution_count": 84,
   "id": "c1d58983",
   "metadata": {},
   "outputs": [
    {
     "data": {
      "image/png": "[encoded data removed]",
      "text/plain": [
       "<Figure size 864x360 with 1 Axes>"
      ]
     },
     "metadata": {},
     "output_type": "display_data"
    }
   ],
   "source": [
    "fig = plt.figure(figsize = (12,5))\n",
    "# plt.xlim(0, 700, 50)\n",
    "bars = plt.bar(data=top10_sus_pos, x='posEntryMode', height='fraudReported', color = 'Orange')\n",
    "\n",
    "for bar in bars:\n",
    "    yval = bar.get_height()\n",
    "    plt.text(bar.get_x() + 0.3, yval + 1.5, yval)\n",
    "\n",
    "plt.title('Point of Sale Entry modes with highest fraudulent transactions', fontsize=14)\n",
    "plt.xlabel('Point of sales codes', fontsize=14)\n",
    "plt.grid(visible=True, which='both')\n",
    "plt.show()"
   ]
  },
  {
   "cell_type": "code",
   "execution_count": 47,
   "id": "52e8967b",
   "metadata": {},
   "outputs": [
    {
     "data": {
      "text/html": [
       "<div>\n",
       "<style scoped>\n",
       "    .dataframe tbody tr th:only-of-type {\n",
       "        vertical-align: middle;\n",
       "    }\n",
       "\n",
       "    .dataframe tbody tr th {\n",
       "        vertical-align: top;\n",
       "    }\n",
       "\n",
       "    .dataframe thead th {\n",
       "        text-align: right;\n",
       "    }\n",
       "</style>\n",
       "<table border=\"1\" class=\"dataframe\">\n",
       "  <thead>\n",
       "    <tr style=\"text-align: right;\">\n",
       "      <th></th>\n",
       "      <th>availableCash</th>\n",
       "      <th>fraudReported</th>\n",
       "    </tr>\n",
       "  </thead>\n",
       "  <tbody>\n",
       "    <tr>\n",
       "      <th>0</th>\n",
       "      <td>4500</td>\n",
       "      <td>201</td>\n",
       "    </tr>\n",
       "    <tr>\n",
       "      <th>1</th>\n",
       "      <td>1500</td>\n",
       "      <td>177</td>\n",
       "    </tr>\n",
       "    <tr>\n",
       "      <th>2</th>\n",
       "      <td>3500</td>\n",
       "      <td>121</td>\n",
       "    </tr>\n",
       "    <tr>\n",
       "      <th>3</th>\n",
       "      <td>500</td>\n",
       "      <td>91</td>\n",
       "    </tr>\n",
       "    <tr>\n",
       "      <th>4</th>\n",
       "      <td>8500</td>\n",
       "      <td>71</td>\n",
       "    </tr>\n",
       "    <tr>\n",
       "      <th>5</th>\n",
       "      <td>7500</td>\n",
       "      <td>50</td>\n",
       "    </tr>\n",
       "    <tr>\n",
       "      <th>6</th>\n",
       "      <td>10500</td>\n",
       "      <td>33</td>\n",
       "    </tr>\n",
       "    <tr>\n",
       "      <th>7</th>\n",
       "      <td>2500</td>\n",
       "      <td>30</td>\n",
       "    </tr>\n",
       "    <tr>\n",
       "      <th>8</th>\n",
       "      <td>9500</td>\n",
       "      <td>29</td>\n",
       "    </tr>\n",
       "    <tr>\n",
       "      <th>9</th>\n",
       "      <td>5500</td>\n",
       "      <td>27</td>\n",
       "    </tr>\n",
       "  </tbody>\n",
       "</table>\n",
       "</div>"
      ],
      "text/plain": [
       "   availableCash  fraudReported\n",
       "0           4500            201\n",
       "1           1500            177\n",
       "2           3500            121\n",
       "3            500             91\n",
       "4           8500             71\n",
       "5           7500             50\n",
       "6          10500             33\n",
       "7           2500             30\n",
       "8           9500             29\n",
       "9           5500             27"
      ]
     },
     "execution_count": 47,
     "metadata": {},
     "output_type": "execute_result"
    }
   ],
   "source": [
    "grouped_cash = pd.DataFrame(data.groupby(data['availableCash'])['fraudReported'].sum().sort_values(ascending=False)).reset_index()\n",
    "\n",
    "top10_sus_cash = grouped_cash[grouped_cash['availableCash'] != 0]\n",
    "top10_sus_cash(10)"
   ]
  },
  {
   "cell_type": "markdown",
   "id": "c7d62699",
   "metadata": {},
   "source": [
    "#### Summary\n",
    "\n",
    "* There are certain account numbers which are suspicious and need to be checked.\n",
    "* There are a couple of merchants who have more fraudulent transcations and they must be verified.\n",
    "* There are 3 major merchant countries which have more fraudulent against them.\n",
    "* Merchant zip code has nothing to do with frauds.\n",
    "* The pos entry mode with 81 as the entry which is e-commerce transaction has 72% of the fraudulent data. "
   ]
  },
  {
   "cell_type": "markdown",
   "id": "d9553836",
   "metadata": {},
   "source": [
    "How many transactions has been done from the account '8b9c15ea' having pos as 81 (e-commerce)?"
   ]
  },
  {
   "cell_type": "code",
   "execution_count": 48,
   "id": "86a5bf8f",
   "metadata": {},
   "outputs": [
    {
     "data": {
      "text/plain": [
       "fraudReported    115\n",
       "dtype: int64"
      ]
     },
     "execution_count": 48,
     "metadata": {},
     "output_type": "execute_result"
    }
   ],
   "source": [
    "data.loc[(data['accountNumber']=='8b9c15ea') & (data['posEntryMode'] == 81),['fraudReported']].count()"
   ]
  },
  {
   "cell_type": "code",
   "execution_count": 49,
   "id": "0deb2720",
   "metadata": {},
   "outputs": [
    {
     "data": {
      "text/plain": [
       "fraudReported    128\n",
       "dtype: int64"
      ]
     },
     "execution_count": 49,
     "metadata": {},
     "output_type": "execute_result"
    }
   ],
   "source": [
    "data.loc[(data['accountNumber']=='8b9c15ea') & (data['posEntryMode'] == 1),['fraudReported']].count()"
   ]
  },
  {
   "cell_type": "markdown",
   "id": "0ab58e79",
   "metadata": {},
   "source": [
    "Now, since our data contains almost 80% of the fraudulent cases having posEntryMode as 81, let us look at the top 3 fraudulent merchant IDs which have 81 as their pos entry mode. We will see how many fraudulent cases there have been from these merchants per month from the historical data provided."
   ]
  },
  {
   "cell_type": "code",
   "execution_count": 42,
   "id": "27bd1484",
   "metadata": {
    "scrolled": true
   },
   "outputs": [
    {
     "data": {
      "image/png": "[encoded data removed]",
      "text/plain": [
       "<Figure size 1080x360 with 1 Axes>"
      ]
     },
     "metadata": {},
     "output_type": "display_data"
    }
   ],
   "source": [
    "merid = data.groupby(['merchantId'], as_index=False)\n",
    "# merid_with0Fraud = merid[merid['fraudReported'] != 0]\n",
    "\n",
    "# df_merId = (data.loc[data['merchantId'].isin(merid_with0Fraud['merchantId'].tolist())])\n",
    "\n",
    "pos81_merid = merid.filter(lambda x: (x['posEntryMode'] == 81).any())\n",
    "top10merid = pos81_merid.groupby(['merchantId'], as_index=False)['fraudReported'].sum().sort_values(by='fraudReported',ascending=False)[0:3]\n",
    "\n",
    "a = pos81_merid.groupby(['merchantId', 'yearMonth'], as_index=False)['fraudReported'].sum().sort_values(by='fraudReported',ascending=False)\n",
    "df_merIddd = (a.loc[a['merchantId'].isin(top10merid['merchantId'].tolist())])\n",
    "\n",
    "df_merIddd.pivot(\"yearMonth\", \"merchantId\", \"fraudReported\").plot(kind='bar', figsize=(15,5))\n",
    "plt.title('Number of fradulent transactions per month by top 3 merchants', fontsize=14)\n",
    "plt.xlabel('months', fontsize=14)\n",
    "plt.ylabel('count', fontsize=14)\n",
    "plt.grid(visible=True, which='both')\n",
    "plt.legend(title='Merchant ID')\n",
    "plt.show()"
   ]
  },
  {
   "cell_type": "markdown",
   "id": "201b75f4",
   "metadata": {},
   "source": [
    "Now, since our data contains almost 80% of the fraudulent cases having posEntryMode as 81, let us look at the top 3 fraudulent merchant country codes which have 81 as their pos entry mode. We will see how many fraudulent cases there have been from these merchants per month from the historical data provided."
   ]
  },
  {
   "cell_type": "code",
   "execution_count": 39,
   "id": "eff14a34",
   "metadata": {},
   "outputs": [
    {
     "data": {
      "image/png": "[encoded data removed]",
      "text/plain": [
       "<Figure size 1080x360 with 1 Axes>"
      ]
     },
     "metadata": {},
     "output_type": "display_data"
    }
   ],
   "source": [
    "merid = data.groupby(['merchantCountry'], as_index=False)\n",
    "# merid_with0Fraud = merid[merid['fraudReported'] != 0]\n",
    "\n",
    "# df_merId = (data.loc[data['merchantId'].isin(merid_with0Fraud['merchantId'].tolist())])\n",
    "\n",
    "pos81_merid = merid.filter(lambda x: (x['posEntryMode'] == 81).any())\n",
    "\n",
    "top10merid = pos81_merid.groupby(['merchantCountry'], as_index=False)['fraudReported'].sum().sort_values(by='fraudReported',ascending=False)[0:3]\n",
    "\n",
    "a = pos81_merid.groupby(['merchantCountry', 'yearMonth'], as_index=False)['fraudReported'].sum().sort_values(by='fraudReported',ascending=False)\n",
    "df_merIddd = (a.loc[a['merchantCountry'].isin(top10merid['merchantCountry'].tolist())])\n",
    "\n",
    "df_merIddd.pivot(\"yearMonth\", \"merchantCountry\", \"fraudReported\").plot(kind='bar', figsize=(15,5))\n",
    "plt.title('Number of fradulent transactions per month by top 3 merchant country', fontsize=14)\n",
    "plt.xlabel('months', fontsize=14)\n",
    "plt.ylabel('count', fontsize=14)\n",
    "plt.grid(visible=True, which='both')\n",
    "plt.legend(title='Merchant country')\n",
    "plt.show()"
   ]
  },
  {
   "cell_type": "markdown",
   "id": "161c3172",
   "metadata": {},
   "source": []
  },
  {
   "cell_type": "code",
   "execution_count": 46,
   "id": "f3e94305",
   "metadata": {},
   "outputs": [
    {
     "data": {
      "image/png": "[encoded data removed]",
      "text/plain": [
       "<Figure size 1080x360 with 1 Axes>"
      ]
     },
     "metadata": {},
     "output_type": "display_data"
    }
   ],
   "source": [
    "merid = data.groupby(['mcc'], as_index=False)\n",
    "# merid_with0Fraud = merid[merid['fraudReported'] != 0]\n",
    "\n",
    "# df_merId = (data.loc[data['merchantId'].isin(merid_with0Fraud['merchantId'].tolist())])\n",
    "\n",
    "pos81_merid = merid.filter(lambda x: (x['posEntryMode'] == 81).any())\n",
    "top10merid = pos81_merid.groupby(['mcc'], as_index=False)['fraudReported'].sum().sort_values(by='fraudReported',ascending=False)[0:3]\n",
    "\n",
    "a = pos81_merid.groupby(['mcc', 'yearMonth'], as_index=False)['fraudReported'].sum().sort_values(by='fraudReported',ascending=False)\n",
    "df_merIddd = (a.loc[a['mcc'].isin(top10merid['mcc'].tolist())])\n",
    "\n",
    "df_merIddd.pivot(\"yearMonth\", \"mcc\", \"fraudReported\").plot(kind='bar', figsize=(15,5))\n",
    "plt.title('Number of fradulent transactions per month by top 3 merchant category codes', fontsize=14)\n",
    "plt.xlabel('months', fontsize=14)\n",
    "plt.ylabel('count', fontsize=14)\n",
    "plt.grid(visible=True, which='both')\n",
    "plt.legend(title='Merchant category code')\n",
    "plt.show()"
   ]
  },
  {
   "cell_type": "code",
   "execution_count": null,
   "id": "95a357b3",
   "metadata": {},
   "outputs": [],
   "source": []
  },
  {
   "cell_type": "code",
   "execution_count": null,
   "id": "4d4c66bf",
   "metadata": {},
   "outputs": [],
   "source": []
  },
  {
   "cell_type": "code",
   "execution_count": null,
   "id": "390a3390",
   "metadata": {},
   "outputs": [],
   "source": []
  }
 ],
 "metadata": {
  "kernelspec": {
   "display_name": "Python 3",
   "language": "python",
   "name": "python3"
  },
  "language_info": {
   "codemirror_mode": {
    "name": "ipython",
    "version": 3
   },
   "file_extension": ".py",
   "mimetype": "text/x-python",
   "name": "python",
   "nbconvert_exporter": "python",
   "pygments_lexer": "ipython3",
   "version": "3.10.10"
  },
  "vscode": {
   "interpreter": {
    "hash": "0ce61748c4639de6d77d32000f7ef72553a4257d5c14a7cd80f77c29dd2b22b1"
   }
  }
 },
 "nbformat": 4,
 "nbformat_minor": 5
}
