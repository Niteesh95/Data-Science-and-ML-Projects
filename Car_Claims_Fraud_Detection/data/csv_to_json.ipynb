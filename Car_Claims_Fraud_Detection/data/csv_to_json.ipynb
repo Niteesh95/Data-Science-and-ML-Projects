{
 "cells": [
  {
   "cell_type": "code",
   "execution_count": 3,
   "metadata": {},
   "outputs": [],
   "source": [
    "import csv\n",
    "import json\n",
    " \n",
    "def csv_to_json(csv_file_path, json_file_path):\n",
    "    #create a dictionary\n",
    "    data_dict = {}\n",
    " \n",
    "    #Step 2\n",
    "    #open a csv file handler\n",
    "    with open(csv_file_path, encoding = 'utf-8') as csv_file_handler:\n",
    "        csv_reader = csv.DictReader(csv_file_handler)\n",
    " \n",
    "        #convert each row into a dictionary\n",
    "        #and add the converted data to the data_variable\n",
    " \n",
    "        for rows in csv_reader:\n",
    " \n",
    "            #assuming a column named 'No'\n",
    "            #to be the primary key\n",
    "            key = rows['Serial No.']\n",
    "            data_dict[key] = rows\n",
    " \n",
    "    #open a json file handler and use json.dumps\n",
    "    #method to dump the data\n",
    "    #Step 3\n",
    "    with open(json_file_path, 'w', encoding = 'utf-8') as json_file_handler:\n",
    "        #Step 4\n",
    "        json_file_handler.write(json.dumps(data_dict, indent = 4))\n"
   ]
  },
  {
   "cell_type": "code",
   "execution_count": 4,
   "metadata": {},
   "outputs": [],
   "source": [
    "#driver code\n",
    "#be careful while providing the path of the csv file\n",
    "#provide the file path relative to your machine\n",
    " \n",
    "#Step 1\n",
    "csv_file_path = \"C:/Users/nitee/OneDrive/Documents/Projects/Car_Claims/carclaims.csv\"\n",
    "json_file_path = \"C:/Users/nitee/OneDrive/Documents/Projects/Car_Claims/carclaims.json\"\n",
    " \n",
    "csv_to_json(csv_file_path, json_file_path)"
   ]
  },
  {
   "cell_type": "code",
   "execution_count": null,
   "metadata": {},
   "outputs": [],
   "source": []
  }
 ],
 "metadata": {
  "kernelspec": {
   "display_name": "Python 3",
   "language": "python",
   "name": "python3"
  },
  "language_info": {
   "codemirror_mode": {
    "name": "ipython",
    "version": 3
   },
   "file_extension": ".py",
   "mimetype": "text/x-python",
   "name": "python",
   "nbconvert_exporter": "python",
   "pygments_lexer": "ipython3",
   "version": "3.10.9"
  },
  "orig_nbformat": 4,
  "vscode": {
   "interpreter": {
    "hash": "0ce61748c4639de6d77d32000f7ef72553a4257d5c14a7cd80f77c29dd2b22b1"
   }
  }
 },
 "nbformat": 4,
 "nbformat_minor": 2
}
